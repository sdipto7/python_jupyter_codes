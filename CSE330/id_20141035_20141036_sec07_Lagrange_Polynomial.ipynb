{
 "cells": [
  {
   "cell_type": "markdown",
   "metadata": {
    "colab_type": "text",
    "id": "7UmN_petOh6Y"
   },
   "source": [
    "## CSE330 Lab: Polynomial Interpolation using Lagrange form\n",
    "---"
   ]
  },
  {
   "cell_type": "markdown",
   "metadata": {
    "colab_type": "text",
    "id": "HHPzMTDjPF3B"
   },
   "source": [
    "###1. Importing necessary libraries"
   ]
  },
  {
   "cell_type": "code",
   "execution_count": 4,
   "metadata": {
    "colab": {},
    "colab_type": "code",
    "id": "xauO0NGhPFHL"
   },
   "outputs": [],
   "source": [
    "import numpy as np\n",
    "import matplotlib.pyplot as plt"
   ]
  },
  {
   "cell_type": "markdown",
   "metadata": {
    "colab_type": "text",
    "id": "wiOfo1xZPKXo"
   },
   "source": [
    "###2. Writing the LagrangePolynomial class\n",
    "\n",
    "i) The constructor `__init__` has been written for you. \n",
    "    \n",
    "  * Here, we check whether the input vectors (numpy arrays) are equal or not. \n",
    "  * We store `data_x` and `data_y`\n",
    "  * We calculate and store the degree of the polynomial.\n",
    "\n",
    "ii) The `__repr__` function has been written for you. \n",
    "\n",
    "* This is similar to the toString() method in Java. This returns a formatted string of the object whenever the object is printed.\n",
    "\n",
    "\n",
    "**iii) You have to write the `__call__` function.** \n",
    "\n",
    "* This function makes an object of a class callable.\n",
    "* The function calculates the lagrange polynomial from a set of given nodes. `self.x` and `self.y` contains the coordinates of the given nodes of the original function. You have to use `self.x` and `self.y` in equations $1$ and $2$ below to find the interpolated output of the polynomial for all elements of `x`.\n",
    "`x` is a numpy array containing points through which we want to plot our polynomial. \n",
    "\n"
   ]
  },
  {
   "cell_type": "markdown",
   "metadata": {
    "colab_type": "text",
    "id": "fyGlx00nUlPd"
   },
   "source": [
    "General form for a $n$ degree Lagrange polynomial:\n",
    "\n",
    "\\begin{equation}\n",
    "p_n(x) = \\sum_{k=0}^{n} f(x_k)l_k(x)\\tag{1}\n",
    "\\end{equation}\n",
    "\n",
    "where,\n",
    "\\begin{equation}\n",
    "l_k(x) = \\prod_{j=0, j\\neq k}^{n} \\frac{x-x_j}{x_k-x_j} \\tag{2}\n",
    "\\end{equation}\n",
    "\n",
    "Note that the Lagrange method is more efficient than the matrix method since we do not need to calculate any inverse matrices.\n"
   ]
  },
  {
   "cell_type": "code",
   "execution_count": 5,
   "metadata": {
    "colab": {},
    "colab_type": "code",
    "id": "Ep7DC4BeNZRV"
   },
   "outputs": [],
   "source": [
    "class LagrangePolynomial:\n",
    "    def __init__(self, data_x, data_y):\n",
    "\n",
    "        assert len(data_x) == len(data_y)\n",
    "        \n",
    "        self.x = data_x\n",
    "        self.y = data_y\n",
    "        self.degree = len(data_x) - 1\n",
    "\n",
    "    def __repr__(self):\n",
    "        strL = f\"LagrangePolynomial of order {self.degree}\\n\"\n",
    "        strL += \"p(x) = \"\n",
    "        for i in range(self.y):\n",
    "            if y == 0:\n",
    "                continue\n",
    "            elif y >= 0:\n",
    "                strL += f\"+ {y}*l_{i+1}(x) \"\n",
    "            else:\n",
    "                strL += f\"- {-y}*l_{i+1}(x) \"\n",
    "\n",
    "        return strL\n",
    "\n",
    "    def __call__(self, x):\n",
    "        y_interp  = np.zeros(len(x))\n",
    "        \n",
    "##correct output with 2 loop used here         \n",
    "\n",
    "#         for k in range(len(x)):        \n",
    "#             for i,j in zip(self.x, self.y):             \n",
    "#                 y_interp[k] += j * np.prod((x[k] - self.x[self.x != i])/(i-self.x[self.x != i]))\n",
    "\n",
    "        length = len(self.x) * len(x)        \n",
    "        i,j,k = 0,0,0\n",
    "        \n",
    "        for a in range(length):\n",
    "            \n",
    "            if (i == len(self.x)):\n",
    "                i,j = 0,0\n",
    "                k += 1\n",
    "                \n",
    "            if (k == len(x)):\n",
    "                break\n",
    "                \n",
    "            y_interp[k] += self.y[j] * np.prod((x[k] - self.x[self.x != self.x[i]])/(self.x[i] - self.x[self.x != self.x[i]]))\n",
    "\n",
    "            i += 1\n",
    "            j += 1\n",
    "\n",
    "        return y_interp\n",
    " "
   ]
  },
  {
   "cell_type": "markdown",
   "metadata": {
    "colab_type": "text",
    "id": "zsx4K8smO41X"
   },
   "source": [
    "###3. Calling the `LagrangePolynomial` object and plotting the polynomial.\n",
    "\n",
    "First we create a lagrange polynomial object, `p` by calling `LagrangePolynomial(data_x, data_y)`. Then, we call the object as a function (which is possible because we had implemented a `__call__` function in the `LagrangePolynomial` class) and pass in `x`. `x` is 1D numpy array (a vector) which we created using `linspace` function and contains $x_i$, i.e. the points through which we want to plot our polynomial. Calling the object as a function and inputting `x` returns the corresponding $y_i$ values and stores them in the `y_interp` numpy array. \n",
    "\n",
    "Finally, the polynomial is plotted by passing in $x$ and $y_{interp}$ in `plt.plot()`, i.e. the $x_i$ and $y_i$ pairs. \n",
    "\n",
    "Note that in the plot the given nodes will be marked in red."
   ]
  },
  {
   "cell_type": "code",
   "execution_count": 6,
   "metadata": {
    "colab": {},
    "colab_type": "code",
    "id": "id1BPvpOO0ZZ"
   },
   "outputs": [
    {
     "data": {
      "image/png": "[encoded data removed]",
      "text/plain": [
       "<Figure size 432x288 with 1 Axes>"
      ]
     },
     "metadata": {
      "needs_background": "light"
     },
     "output_type": "display_data"
    }
   ],
   "source": [
    "data_x = np.array([-3.,-2.,-1.,0.,1.,3.,4.])\n",
    "data_y = np.array([-60.,-80.,6.,1.,45.,30.,16.])\n",
    "\n",
    "p = LagrangePolynomial(data_x, data_y)\n",
    "\n",
    "x = np.linspace(-3, 4, 100) \n",
    "y_interp = p(x)\n",
    "\n",
    "plt.plot(x, y_interp)\n",
    "plt.plot(data_x, data_y, 'ro')\n",
    "plt.legend(['interpolated', 'node points'], loc = 'upper left')\n",
    "plt.xlabel('x')\n",
    "plt.ylabel('y')\n",
    "plt.title('Lagrange Polynomial')\n",
    "\n",
    "plt.show()"
   ]
  },
  {
   "cell_type": "code",
   "execution_count": null,
   "metadata": {
    "colab": {},
    "colab_type": "code",
    "id": "0TXF34Qks6j2"
   },
   "outputs": [],
   "source": []
  }
 ],
 "metadata": {
  "colab": {
   "collapsed_sections": [],
   "name": "Polynomial_Interpolation_(Lagrange)_Student.ipynb",
   "provenance": []
  },
  "kernelspec": {
   "display_name": "Python 3",
   "language": "python",
   "name": "python3"
  },
  "language_info": {
   "codemirror_mode": {
    "name": "ipython",
    "version": 3
   },
   "file_extension": ".py",
   "mimetype": "text/x-python",
   "name": "python",
   "nbconvert_exporter": "python",
   "pygments_lexer": "ipython3",
   "version": "3.8.3"
  }
 },
 "nbformat": 4,
 "nbformat_minor": 1
}
