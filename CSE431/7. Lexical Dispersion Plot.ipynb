{
 "cells": [
  {
   "cell_type": "code",
   "execution_count": 2,
   "id": "cardiovascular-effectiveness",
   "metadata": {},
   "outputs": [],
   "source": [
    "import nltk\n",
    "import numpy as np\n",
    "import string\n",
    "import matplotlib.pyplot as plt\n",
    "from nltk.tokenize import word_tokenize\n",
    "from nltk.corpus import PlaintextCorpusReader\n",
    "from nltk.text import Text\n",
    "import re\n",
    "from nltk.probability import FreqDist\n",
    "from nltk.corpus import stopwords\n",
    "from collections import Counter\n",
    "from wordcloud import WordCloud\n",
    "from matplotlib.colors import LinearSegmentedColormap\n",
    "from PIL import Image"
   ]
  },
  {
   "cell_type": "markdown",
   "id": "copyrighted-partner",
   "metadata": {},
   "source": [
    "We can plot lexical dispersion of particular tokens. Lexical dispersion is a measure of how frequently a word appears across the parts of a corpus. This plot notes the occurrences of a word and how many words from the beginning of the corpus it appears (word offsets). This is particularly useful for a corpus that covers a longer time period and for which you want to analyse how specific terms were used more or less frequently over time.\n",
    "\n",
    "To create a lexical disperson plot, you will first load and import a different corpus, the inaugural corpus which are all US Presidential Inaugural Addresses and which are provided with NLTK."
   ]
  },
  {
   "cell_type": "code",
   "execution_count": 3,
   "id": "victorian-judges",
   "metadata": {},
   "outputs": [
    {
     "name": "stderr",
     "output_type": "stream",
     "text": [
      "[nltk_data] Downloading package inaugural to\n",
      "[nltk_data]     C:\\Users\\DIPTO\\AppData\\Roaming\\nltk_data...\n",
      "[nltk_data]   Unzipping corpora\\inaugural.zip.\n"
     ]
    }
   ],
   "source": [
    "nltk.download('inaugural')\n",
    "\n",
    "from nltk.corpus import inaugural\n",
    "from nltk.text import Text\n",
    "\n",
    "inaugural_tokens=inaugural.words()\n",
    "inaugural_texts = Text(inaugural_tokens)"
   ]
  },
  {
   "cell_type": "markdown",
   "id": "dense-council",
   "metadata": {},
   "source": [
    "To create the lexical dispersion plot for this corpus you also need to load dispersion_plot from the nltk.draw.dispersion package. You can then call the dispersion_plot method given a set of parameters, including the target words you want to plot across the corpus, whether this should be done case-sensitively, and specifying the title of the plot."
   ]
  },
  {
   "cell_type": "code",
   "execution_count": 5,
   "id": "dying-ethnic",
   "metadata": {},
   "outputs": [
    {
     "data": {
      "image/png": "[encoded data removed]",
      "text/plain": [
       "<Figure size 864x648 with 1 Axes>"
      ]
     },
     "metadata": {
      "needs_background": "light"
     },
     "output_type": "display_data"
    }
   ],
   "source": [
    "from nltk.draw.dispersion import dispersion_plot\n",
    "\n",
    "# the following command can be used to increase the size of the plot using width and hight specifications\n",
    "plt.figure(figsize=(12, 9))\n",
    "targets=['great','good','tax','work','change']\n",
    "dispersion_plot(inaugural_texts, targets, ignore_case=True, title='Lexical Dispersion Plot')"
   ]
  },
  {
   "cell_type": "code",
   "execution_count": null,
   "id": "willing-evanescence",
   "metadata": {},
   "outputs": [],
   "source": []
  }
 ],
 "metadata": {
  "kernelspec": {
   "display_name": "Python 3",
   "language": "python",
   "name": "python3"
  },
  "language_info": {
   "codemirror_mode": {
    "name": "ipython",
    "version": 3
   },
   "file_extension": ".py",
   "mimetype": "text/x-python",
   "name": "python",
   "nbconvert_exporter": "python",
   "pygments_lexer": "ipython3",
   "version": "3.8.3"
  }
 },
 "nbformat": 4,
 "nbformat_minor": 5
}
