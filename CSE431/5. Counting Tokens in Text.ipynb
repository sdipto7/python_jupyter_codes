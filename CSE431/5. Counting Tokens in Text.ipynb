{
 "cells": [
  {
   "cell_type": "code",
   "execution_count": 1,
   "id": "hawaiian-microwave",
   "metadata": {},
   "outputs": [],
   "source": [
    "import nltk\n",
    "import numpy\n",
    "import string\n",
    "import matplotlib.pyplot as plt\n",
    "from nltk.tokenize import word_tokenize\n",
    "from nltk.corpus import PlaintextCorpusReader\n",
    "from nltk.text import Text\n",
    "import re"
   ]
  },
  {
   "cell_type": "code",
   "execution_count": 2,
   "id": "imported-crown",
   "metadata": {},
   "outputs": [],
   "source": [
    "file = open('nls-text-indiaPapers/74457530.txt','r')\n",
    "raw_data = file.read()\n",
    "tokens = word_tokenize(raw_data)\n",
    "lower_tokens = [word.lower() for word in tokens]"
   ]
  },
  {
   "cell_type": "markdown",
   "id": "strong-punishment",
   "metadata": {},
   "source": [
    "# Counting tokens in a text\n",
    "\n",
    "You can also do other useful things like count the number of tokens in a text, determine the number and percentage count of particular tokens and plot the count distributions as a graph. To do this we have to import the FreqDist class from the NLTK probability package. When calling this class, a list of tokens from a text or corpus needs to be specified as a parameter in brackets."
   ]
  },
  {
   "cell_type": "code",
   "execution_count": 3,
   "id": "actual-spare",
   "metadata": {},
   "outputs": [],
   "source": [
    "from nltk.probability import FreqDist"
   ]
  },
  {
   "cell_type": "code",
   "execution_count": 4,
   "id": "boring-warrior",
   "metadata": {},
   "outputs": [],
   "source": [
    "fdist = FreqDist(lower_tokens)"
   ]
  },
  {
   "cell_type": "code",
   "execution_count": 5,
   "id": "naked-worse",
   "metadata": {},
   "outputs": [
    {
     "data": {
      "text/plain": [
       "FreqDist({'the': 5923, ',': 5332, '.': 5257, 'of': 4062, 'and': 2118, 'in': 2117, 'to': 1891, 'is': 1124, 'a': 1049, 'that': 816, ...})"
      ]
     },
     "execution_count": 5,
     "metadata": {},
     "output_type": "execute_result"
    }
   ],
   "source": [
    "fdist"
   ]
  },
  {
   "cell_type": "markdown",
   "id": "positive-gabriel",
   "metadata": {},
   "source": [
    "##### We can count the total number of tokens in a corpus using the N() method:"
   ]
  },
  {
   "cell_type": "code",
   "execution_count": 6,
   "id": "wanted-language",
   "metadata": {},
   "outputs": [
    {
     "data": {
      "text/plain": [
       "93568"
      ]
     },
     "execution_count": 6,
     "metadata": {},
     "output_type": "execute_result"
    }
   ],
   "source": [
    "fdist.N()"
   ]
  },
  {
   "cell_type": "markdown",
   "id": "stunning-segment",
   "metadata": {},
   "source": [
    "##### We can count the number of times a token appears in a corpus:"
   ]
  },
  {
   "cell_type": "code",
   "execution_count": 7,
   "id": "acute-spider",
   "metadata": {},
   "outputs": [
    {
     "data": {
      "text/plain": [
       "26"
      ]
     },
     "execution_count": 7,
     "metadata": {},
     "output_type": "execute_result"
    }
   ],
   "source": [
    "fdist['she']"
   ]
  },
  {
   "cell_type": "code",
   "execution_count": 8,
   "id": "single-virgin",
   "metadata": {},
   "outputs": [
    {
     "data": {
      "text/plain": [
       "48"
      ]
     },
     "execution_count": 8,
     "metadata": {},
     "output_type": "execute_result"
    }
   ],
   "source": [
    "fdist['man']"
   ]
  },
  {
   "cell_type": "markdown",
   "id": "theoretical-southwest",
   "metadata": {},
   "source": [
    "##### We can also determine the relative frequency of a token in a corpus, so what % of the corpus a term is:"
   ]
  },
  {
   "cell_type": "code",
   "execution_count": 12,
   "id": "sought-fisher",
   "metadata": {},
   "outputs": [
    {
     "data": {
      "text/plain": [
       "0.00027787277701778385"
      ]
     },
     "execution_count": 12,
     "metadata": {},
     "output_type": "execute_result"
    }
   ],
   "source": [
    "fdist.freq('she')"
   ]
  },
  {
   "cell_type": "code",
   "execution_count": 13,
   "id": "sunrise-triple",
   "metadata": {},
   "outputs": [
    {
     "data": {
      "text/plain": [
       "0.0005129958960328317"
      ]
     },
     "execution_count": 13,
     "metadata": {},
     "output_type": "execute_result"
    }
   ],
   "source": [
    "fdist.freq('man')"
   ]
  },
  {
   "cell_type": "code",
   "execution_count": null,
   "id": "bibliographic-detection",
   "metadata": {},
   "outputs": [],
   "source": []
  }
 ],
 "metadata": {
  "kernelspec": {
   "display_name": "Python 3",
   "language": "python",
   "name": "python3"
  },
  "language_info": {
   "codemirror_mode": {
    "name": "ipython",
    "version": 3
   },
   "file_extension": ".py",
   "mimetype": "text/x-python",
   "name": "python",
   "nbconvert_exporter": "python",
   "pygments_lexer": "ipython3",
   "version": "3.8.3"
  }
 },
 "nbformat": 4,
 "nbformat_minor": 5
}
