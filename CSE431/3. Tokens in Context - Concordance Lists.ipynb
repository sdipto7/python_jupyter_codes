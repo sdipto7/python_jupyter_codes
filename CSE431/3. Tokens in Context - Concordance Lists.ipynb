{
 "cells": [
  {
   "cell_type": "code",
   "execution_count": 1,
   "id": "demonstrated-nylon",
   "metadata": {},
   "outputs": [],
   "source": [
    "import nltk\n",
    "import numpy\n",
    "import string\n",
    "import matplotlib.pyplot as plt\n",
    "from nltk.tokenize import word_tokenize\n",
    "from nltk.corpus import PlaintextCorpusReader"
   ]
  },
  {
   "cell_type": "code",
   "execution_count": 2,
   "id": "pressing-anger",
   "metadata": {},
   "outputs": [],
   "source": [
    "file = open('nls-text-indiaPapers/74457530.txt','r')\n",
    "raw_data = file.read()\n",
    "tokens = word_tokenize(raw_data)\n",
    "lower_tokens = [word.lower() for word in tokens]"
   ]
  },
  {
   "cell_type": "markdown",
   "id": "interracial-trainer",
   "metadata": {},
   "source": [
    "# Concordance list for a text collection\n",
    "\n",
    "### A concordance is an alphabetical list of the principal words used in a book or body of work, listing every instance of each word with its immediate context.\n",
    "\n",
    "Next, we will display concordances for a particular token, i.e. all contexts a particular token appears in. We can do this using the Text class in NLTK’s text package. We can represent our list of lowercased tokens in the document collection loaded previously using the Text class. The concordance list of a token can be displayed using the concordance() method on this class as shown below."
   ]
  },
  {
   "cell_type": "code",
   "execution_count": 3,
   "id": "metallic-junior",
   "metadata": {},
   "outputs": [],
   "source": [
    "from nltk.text import Text"
   ]
  },
  {
   "cell_type": "code",
   "execution_count": 5,
   "id": "voluntary-function",
   "metadata": {},
   "outputs": [],
   "source": [
    "text = Text(lower_tokens)"
   ]
  },
  {
   "cell_type": "code",
   "execution_count": 7,
   "id": "fallen-daily",
   "metadata": {},
   "outputs": [
    {
     "name": "stdout",
     "output_type": "stream",
     "text": [
      "Displaying 25 of 170 matches:\n",
      "leprosy treated by gurjun oil , which he was able to watch for a length of tim\n",
      " diminished . during these two months he gained three pounds in weight , which\n",
      "does not seem much , considering that he did no work and was fairly well fed o\n",
      "se from jail on the 23rd january 1876 he was again suffering from the sores th\n",
      "n 5th and died on 20th october 1875 . he was seriously ill when he was brought\n",
      "ober 1875 . he was seriously ill when he was brought to the hospital , and cou\n",
      "itted on the 8th september 1875 , and he went home of his own accord on 20th d\n",
      "is own accord on 20th december 1875 . he was much improved under treat- ment b\n",
      "evalence of leprosy in the district , he had had but very few opportunities of\n",
      "even half this number . the natives , he says , call every chronic skin diseas\n",
      "in the legs , the feet and the ears . he has perfect taste , hearing , sight a\n",
      "te laboured under it . the leper says he was quite free from leprosy until he \n",
      " he was quite free from leprosy until he associated with this man and took din\n",
      "prosy of 15 years ' standing . states he had first gonorrha , then syphillis ,\n",
      "been affected 6 years ; was well when he married . had two children who died ,\n",
      "ve of the territory beyond the hubb . he had lost some parts of his hands and \n",
      " feet previous to his incarceration . he was treated with large doses of iodid\n",
      "ease be removed . dr. bloomfield says he sent two interesting specimens of thi\n",
      "ant medical college museum , but that he never heard of them after , nor did h\n",
      "e never heard of them after , nor did he discover them in the museum when he v\n",
      "d he discover them in the museum when he visited it afterwards . should the di\n",
      "er and elder sister were lepers , and he himself became a leper at 30 years of\n",
      ". his elder brother was a leper , and he himself became a leper at 32 . his wi\n",
      "one year after she was affected , and he suffered from leprosy . no . 7.-the c\n",
      "ied . afterwards , at the age of 43 , he him- self was attacked with leprosy .\n"
     ]
    }
   ],
   "source": [
    "text.concordance('he')"
   ]
  },
  {
   "cell_type": "code",
   "execution_count": 8,
   "id": "automotive-columbus",
   "metadata": {},
   "outputs": [
    {
     "name": "stdout",
     "output_type": "stream",
     "text": [
      "Displaying 20 of 20 matches:\n",
      "s of age , a sweeper , who married a woman who had leprosy , and at the age of \n",
      "e of sitabu , aged 40 , a muhammadan woman . her grand- father and father were \n",
      "ung man deliberately married a leper woman , and became himself a leper at the \n",
      "contrary . in no . 6 a man marries a woman whose grandfather and father had bee\n",
      " lepers . in no . 10 a man marries a woman whose father had died of leprosy . i\n",
      "applies to these cases . in no . 2 a woman marries a man whose father and elder\n",
      "n in the case of a man who marries a woman of notoriously leper family . in no \n",
      "toriously leper family . in no . 5 a woman marries a man whose elder brother wa\n",
      "d continued to cohabit with a native woman after she had been attacked with lep\n",
      "isen from intermarriage of a man and woman in both of whom leprosy was heredita\n",
      "s a leper ; he is now married to the woman , and they both live in the asylum .\n",
      "een accompanied by a healthy looking woman , and by this means , although all h\n",
      "editary transmission . in one case a woman got the disease about two years afte\n",
      " passed their thirtieth year , one a woman about 25 years of age , and the seve\n",
      " fracture of femur in middle third . woman well nourished and skin healthy , no\n",
      " ; had a brother with same disease . woman recovered and able to move about ; o\n",
      "re or less related to each other . a woman got leprosy first from a leprous hus\n",
      "s village assured me that before the woman returned home after her husband 's d\n",
      "against it . this case was that of a woman with two leprous children , aged abo\n",
      "ions had been lepers , who married a woman with tubercular leprosy , he being a\n"
     ]
    }
   ],
   "source": [
    "text.concordance('woman')"
   ]
  },
  {
   "cell_type": "code",
   "execution_count": 10,
   "id": "general-westminster",
   "metadata": {},
   "outputs": [
    {
     "name": "stdout",
     "output_type": "stream",
     "text": [
      "Displaying 10 of 170 matches:\n",
      "leprosy treated by gurjun oil , which he was able to watch for a length of tim\n",
      " diminished . during these two months he gained three pounds in weight , which\n",
      "does not seem much , considering that he did no work and was fairly well fed o\n",
      "se from jail on the 23rd january 1876 he was again suffering from the sores th\n",
      "n 5th and died on 20th october 1875 . he was seriously ill when he was brought\n",
      "ober 1875 . he was seriously ill when he was brought to the hospital , and cou\n",
      "itted on the 8th september 1875 , and he went home of his own accord on 20th d\n",
      "is own accord on 20th december 1875 . he was much improved under treat- ment b\n",
      "evalence of leprosy in the district , he had had but very few opportunities of\n",
      "even half this number . the natives , he says , call every chronic skin diseas\n"
     ]
    }
   ],
   "source": [
    "text.concordance('he', lines=10)"
   ]
  },
  {
   "cell_type": "code",
   "execution_count": 12,
   "id": "thousand-deputy",
   "metadata": {},
   "outputs": [
    {
     "name": "stdout",
     "output_type": "stream",
     "text": [
      "Displaying 15 of 52 matches:\n",
      "tion also having changed from one of great repulsiveness to comparative health \n",
      "arm was sensitive to touch , while a great part of the back of the arm and only\n",
      "s . ansthetic leprosy . has lost the great toe of the left foot and the second \n",
      " large ulcer on the ball of the left great toe . '' `` the case of dewan , aged\n",
      "lived to be more than 60 years old-a great age for people of this country . of \n",
      "red with a hard crust , on the right great toe , caused by the rubbing of a new\n",
      "ed with leprosy , for there exists a great unwillingness on the part of lepers \n",
      "ts objects here , seeing that in the great majority of cases the disease has be\n",
      "at the disease does not exist to any great extent in the punjab , nor is it any\n",
      "ot under my charge , though i take a great interest in it , and should like to \n",
      " fingers wanting . legs good ; right great toe and left little toe lost . 5th m\n",
      " . purneah ... mr. picachy ... to no great extent ... ... not so ... ... ......\n",
      " in manbhum , and as i travel over a great part of it every winter verifying th\n",
      "ic charity , and are sheltered-three great advantages it must be confessed . ( \n",
      "self , but this , of course , was in great part due to the feeding . when he wa\n"
     ]
    }
   ],
   "source": [
    "text.concordance('great', lines=15)"
   ]
  },
  {
   "cell_type": "code",
   "execution_count": null,
   "id": "interesting-breakdown",
   "metadata": {},
   "outputs": [],
   "source": []
  }
 ],
 "metadata": {
  "kernelspec": {
   "display_name": "Python 3",
   "language": "python",
   "name": "python3"
  },
  "language_info": {
   "codemirror_mode": {
    "name": "ipython",
    "version": 3
   },
   "file_extension": ".py",
   "mimetype": "text/x-python",
   "name": "python",
   "nbconvert_exporter": "python",
   "pygments_lexer": "ipython3",
   "version": "3.8.3"
  }
 },
 "nbformat": 4,
 "nbformat_minor": 5
}
