{
 "cells": [
  {
   "cell_type": "code",
   "execution_count": 1,
   "id": "unlimited-animation",
   "metadata": {},
   "outputs": [],
   "source": [
    "import numpy as np"
   ]
  },
  {
   "cell_type": "code",
   "execution_count": 3,
   "id": "mechanical-madonna",
   "metadata": {},
   "outputs": [],
   "source": [
    "class NeuralNetwork():\n",
    "    \n",
    "    def __init__(self):\n",
    "        np.random.seed(1)\n",
    "        \n",
    "        self.synaptic_weights = 2 * np.random.random((3,1)) - 1\n",
    "        \n",
    "    def sigmoid(self,x):\n",
    "        return 1 / (1 + np.exp(-x))\n",
    "    \n",
    "    def sigmoid_derivative(self,x):\n",
    "        return x * (1 - x)\n",
    "    \n",
    "    def train(self, training_inputs, training_ouputs, training_iterations):\n",
    "        \n",
    "        for iteration in range(training_iterations):\n",
    "            \n",
    "            output = self.think(training_inputs)\n",
    "            error = training_ouputs - output\n",
    "            adjustments = np.dot(training_inputs.T, error * self.sigmoid_derivative(output))\n",
    "            self.synaptic_weights += adjustments\n",
    "            \n",
    "    def think(self, inputs):\n",
    "        \n",
    "        inputs = inputs.astype(float)\n",
    "        output = self.sigmoid(np.dot(inputs, self.synaptic_weights))\n",
    "        \n",
    "        return output\n"
   ]
  },
  {
   "cell_type": "code",
   "execution_count": 4,
   "id": "significant-humidity",
   "metadata": {},
   "outputs": [
    {
     "name": "stdout",
     "output_type": "stream",
     "text": [
      "Random synaptic weights: \n",
      "[[-0.16595599]\n",
      " [ 0.44064899]\n",
      " [-0.99977125]]\n",
      "Synaptic weights after training: \n",
      "[[ 9.67299303]\n",
      " [-0.2078435 ]\n",
      " [-4.62963669]]\n",
      "input 1: 0\n",
      "input 2: 0\n",
      "input 3: 1\n",
      "New situation: input data =  0 0 1\n",
      "Output data: \n",
      "[0.009664]\n"
     ]
    }
   ],
   "source": [
    "if __name__ == \"__main__\":\n",
    "\n",
    "    neural_network = NeuralNetwork()\n",
    "    \n",
    "    print('Random synaptic weights: ')\n",
    "    print(neural_network.synaptic_weights)\n",
    "    \n",
    "    training_inputs = np.array([[0,0,1],\n",
    "                          [1,1,1],\n",
    "                          [1,0,1],\n",
    "                          [0,1,1]])\n",
    "\n",
    "    training_outputs = np.array([[0,1,1,0]]).T\n",
    "    \n",
    "    neural_network.train(training_inputs, training_outputs, 10000)\n",
    "    \n",
    "    print('Synaptic weights after training: ')\n",
    "    print(neural_network.synaptic_weights)\n",
    "    \n",
    "    A = str(input(\"input 1: \"))\n",
    "    B = str(input(\"input 2: \"))\n",
    "    C = str(input(\"input 3: \"))\n",
    "    \n",
    "    print(\"New situation: input data = \", A,B,C)\n",
    "    print(\"Output data: \")\n",
    "    print(neural_network.think(np.array([A,B,C])))"
   ]
  },
  {
   "cell_type": "code",
   "execution_count": null,
   "id": "decent-locking",
   "metadata": {},
   "outputs": [],
   "source": []
  }
 ],
 "metadata": {
  "kernelspec": {
   "display_name": "Python 3",
   "language": "python",
   "name": "python3"
  },
  "language_info": {
   "codemirror_mode": {
    "name": "ipython",
    "version": 3
   },
   "file_extension": ".py",
   "mimetype": "text/x-python",
   "name": "python",
   "nbconvert_exporter": "python",
   "pygments_lexer": "ipython3",
   "version": "3.8.3"
  }
 },
 "nbformat": 4,
 "nbformat_minor": 5
}
