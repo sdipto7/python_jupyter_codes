{
 "cells": [
  {
   "cell_type": "code",
   "execution_count": 1,
   "id": "allied-sudan",
   "metadata": {},
   "outputs": [],
   "source": [
    "import numpy as np"
   ]
  },
  {
   "cell_type": "code",
   "execution_count": 2,
   "id": "accompanied-combining",
   "metadata": {},
   "outputs": [],
   "source": [
    "def sigmoid(x):\n",
    "    return 1 / (1 + np.exp(-x))\n",
    "\n",
    "def sigmoid_derivative(x):\n",
    "    return x * (1 - x)"
   ]
  },
  {
   "cell_type": "code",
   "execution_count": 3,
   "id": "green-player",
   "metadata": {},
   "outputs": [],
   "source": [
    "training_inputs = np.array([[0,0,1],\n",
    "                          [1,1,1],\n",
    "                          [1,0,1],\n",
    "                          [0,1,1]])\n",
    "\n",
    "training_outputs = np.array([[0,1,1,0]]).T\n",
    "np.random.seed(1)"
   ]
  },
  {
   "cell_type": "code",
   "execution_count": 4,
   "id": "northern-particular",
   "metadata": {},
   "outputs": [],
   "source": [
    "synaptic_weights = 2 * np.random.random((3,1)) - 1"
   ]
  },
  {
   "cell_type": "code",
   "execution_count": 5,
   "id": "lesbian-lesbian",
   "metadata": {},
   "outputs": [
    {
     "name": "stdout",
     "output_type": "stream",
     "text": [
      "Random starting synaptic weights: \n"
     ]
    },
    {
     "data": {
      "text/plain": [
       "array([[-0.16595599],\n",
       "       [ 0.44064899],\n",
       "       [-0.99977125]])"
      ]
     },
     "execution_count": 5,
     "metadata": {},
     "output_type": "execute_result"
    }
   ],
   "source": [
    "print('Random starting synaptic weights: ')\n",
    "synaptic_weights"
   ]
  },
  {
   "cell_type": "code",
   "execution_count": 6,
   "id": "herbal-anaheim",
   "metadata": {},
   "outputs": [],
   "source": [
    "# for iteration in range(1):\n",
    "#     input_layer = training_inputs\n",
    "#     outputs = sigmoid(np.dot(input_layer,synaptic_weights))\n",
    "# print('Outputs after first training: ')\n",
    "# print(outputs)"
   ]
  },
  {
   "cell_type": "code",
   "execution_count": 11,
   "id": "through-democrat",
   "metadata": {},
   "outputs": [
    {
     "name": "stdout",
     "output_type": "stream",
     "text": [
      "Synaptic weights after traning: \n",
      "[[12.11491915]\n",
      " [-0.20432652]\n",
      " [-5.85345953]]\n",
      "Outputs after training: \n",
      "[[0.00286175]\n",
      " [0.99766435]\n",
      " [0.99809517]\n",
      " [0.00233412]]\n"
     ]
    }
   ],
   "source": [
    "for iteration in range(100000):\n",
    "    \n",
    "    input_layer = training_inputs\n",
    "    \n",
    "    outputs = sigmoid(np.dot(input_layer,synaptic_weights))\n",
    "    \n",
    "    error = training_outputs - outputs\n",
    "    \n",
    "    adjustments = error * sigmoid_derivative(outputs)\n",
    "    \n",
    "    synaptic_weights += np.dot(input_layer.T, adjustments)\n",
    "    \n",
    "print('Synaptic weights after traning: ')\n",
    "print(synaptic_weights)\n",
    "\n",
    "print('Outputs after training: ')\n",
    "print(outputs)"
   ]
  },
  {
   "cell_type": "code",
   "execution_count": null,
   "id": "damaged-manual",
   "metadata": {},
   "outputs": [],
   "source": []
  },
  {
   "cell_type": "code",
   "execution_count": null,
   "id": "copyrighted-despite",
   "metadata": {},
   "outputs": [],
   "source": []
  }
 ],
 "metadata": {
  "kernelspec": {
   "display_name": "Python 3",
   "language": "python",
   "name": "python3"
  },
  "language_info": {
   "codemirror_mode": {
    "name": "ipython",
    "version": 3
   },
   "file_extension": ".py",
   "mimetype": "text/x-python",
   "name": "python",
   "nbconvert_exporter": "python",
   "pygments_lexer": "ipython3",
   "version": "3.8.3"
  }
 },
 "nbformat": 4,
 "nbformat_minor": 5
}
